{
 "cells": [
  {
   "cell_type": "code",
   "execution_count": 1,
   "id": "3a6d5c5f",
   "metadata": {},
   "outputs": [
    {
     "name": "stdout",
     "output_type": "stream",
     "text": [
      "hello world\n"
     ]
    }
   ],
   "source": [
    "print(\"hello world\")"
   ]
  },
  {
   "cell_type": "code",
   "execution_count": 2,
   "id": "9b11157c",
   "metadata": {},
   "outputs": [],
   "source": [
    "from torch.utils.tensorboard import SummaryWriter\n",
    "import numpy as np"
   ]
  },
  {
   "cell_type": "code",
   "execution_count": 3,
   "id": "9af74479",
   "metadata": {},
   "outputs": [],
   "source": [
    "# Specify a directory for logging data \n",
    "logdir = \"./logs\" \n",
    " \n",
    "# Create a file writer to write data to our logdir \n",
    "writer = SummaryWriter(logdir) \n",
    " \n",
    "# Loop from 0 to 199 and get the sine value of each number \n",
    "for i in range(200): \n",
    "    sine = np.math.sin(i)\n",
    "    writer.add_scalar(\"Sine\", sine, i)\n"
   ]
  },
  {
   "cell_type": "code",
   "execution_count": 4,
   "id": "68609e56",
   "metadata": {},
   "outputs": [
    {
     "name": "stdout",
     "output_type": "stream",
     "text": [
      "Draw finish\n"
     ]
    }
   ],
   "source": [
    "print(\"Draw finish\")"
   ]
  }
 ],
 "metadata": {
  "kernelspec": {
   "display_name": "Python 3 (ipykernel)",
   "language": "python",
   "name": "python3"
  },
  "language_info": {
   "codemirror_mode": {
    "name": "ipython",
    "version": 3
   },
   "file_extension": ".py",
   "mimetype": "text/x-python",
   "name": "python",
   "nbconvert_exporter": "python",
   "pygments_lexer": "ipython3",
   "version": "3.10.11"
  }
 },
 "nbformat": 4,
 "nbformat_minor": 5
}
